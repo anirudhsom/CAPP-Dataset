{
 "cells": [
  {
   "attachments": {},
   "cell_type": "markdown",
   "metadata": {},
   "source": [
    "### Import packages"
   ]
  },
  {
   "cell_type": "code",
   "execution_count": 1,
   "metadata": {},
   "outputs": [],
   "source": [
    "import pandas as pd"
   ]
  },
  {
   "attachments": {},
   "cell_type": "markdown",
   "metadata": {},
   "source": [
    "### Load data files"
   ]
  },
  {
   "cell_type": "code",
   "execution_count": 2,
   "metadata": {},
   "outputs": [],
   "source": [
    "# Load train.csv file\n",
    "train_df = pd.read_csv('train.csv')\n",
    "# Convert NaN to empty strings \"\"\n",
    "train_df = train_df.fillna(\"\")\n",
    "\n",
    "# Load test.csv file\n",
    "test_df = pd.read_csv('test.csv')\n",
    "# Convert NaN to empty strings \"\"\n",
    "test_df = test_df.fillna(\"\")"
   ]
  },
  {
   "attachments": {},
   "cell_type": "markdown",
   "metadata": {},
   "source": [
    "### Data summary"
   ]
  },
  {
   "cell_type": "code",
   "execution_count": 3,
   "metadata": {},
   "outputs": [
    {
     "name": "stdout",
     "output_type": "stream",
     "text": [
      "<class 'pandas.core.frame.DataFrame'>\n",
      "RangeIndex: 7939 entries, 0 to 7938\n",
      "Data columns (total 3 columns):\n",
      " #   Column      Non-Null Count  Dtype \n",
      "---  ------      --------------  ----- \n",
      " 0   Context     7939 non-null   object\n",
      " 1   Utterance   7939 non-null   object\n",
      " 2   Paraphrase  7939 non-null   object\n",
      "dtypes: object(3)\n",
      "memory usage: 186.2+ KB\n"
     ]
    }
   ],
   "source": [
    "# Concise summary of train_df dataframe\n",
    "train_df.info()"
   ]
  },
  {
   "cell_type": "code",
   "execution_count": 4,
   "metadata": {},
   "outputs": [
    {
     "name": "stdout",
     "output_type": "stream",
     "text": [
      "<class 'pandas.core.frame.DataFrame'>\n",
      "RangeIndex: 1120 entries, 0 to 1119\n",
      "Data columns (total 3 columns):\n",
      " #   Column      Non-Null Count  Dtype \n",
      "---  ------      --------------  ----- \n",
      " 0   Context     1120 non-null   object\n",
      " 1   Utterance   1120 non-null   object\n",
      " 2   Paraphrase  1120 non-null   object\n",
      "dtypes: object(3)\n",
      "memory usage: 26.4+ KB\n"
     ]
    }
   ],
   "source": [
    "# Concise summary of test_df dataframe\n",
    "test_df.info()"
   ]
  }
 ],
 "metadata": {
  "kernelspec": {
   "display_name": "ccu-gpt3-paraphrase-env",
   "language": "python",
   "name": "python3"
  },
  "language_info": {
   "codemirror_mode": {
    "name": "ipython",
    "version": 3
   },
   "file_extension": ".py",
   "mimetype": "text/x-python",
   "name": "python",
   "nbconvert_exporter": "python",
   "pygments_lexer": "ipython3",
   "version": "3.10.9"
  },
  "orig_nbformat": 4,
  "vscode": {
   "interpreter": {
    "hash": "3bde60ad4a6f436d0967666ece554ab8dc8cd01d8422d63f4775377130d31904"
   }
  }
 },
 "nbformat": 4,
 "nbformat_minor": 2
}
