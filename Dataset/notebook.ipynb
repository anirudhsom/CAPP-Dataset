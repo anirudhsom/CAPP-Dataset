{
 "cells": [
  {
   "attachments": {},
   "cell_type": "markdown",
   "metadata": {},
   "source": [
    "## Import packages"
   ]
  },
  {
   "cell_type": "code",
   "execution_count": 1,
   "metadata": {},
   "outputs": [],
   "source": [
    "import pandas as pd"
   ]
  },
  {
   "attachments": {},
   "cell_type": "markdown",
   "metadata": {},
   "source": [
    "## Load data files"
   ]
  },
  {
   "cell_type": "code",
   "execution_count": 2,
   "metadata": {},
   "outputs": [],
   "source": [
    "# Load train.csv file\n",
    "train_df = pd.read_csv('train.csv')\n",
    "\n",
    "# Load test.csv file\n",
    "test_df = pd.read_csv('test.csv')\n"
   ]
  },
  {
   "attachments": {},
   "cell_type": "markdown",
   "metadata": {},
   "source": [
    "## Data summary"
   ]
  },
  {
   "cell_type": "code",
   "execution_count": 3,
   "metadata": {},
   "outputs": [
    {
     "name": "stdout",
     "output_type": "stream",
     "text": [
      "<class 'pandas.core.frame.DataFrame'>\n",
      "RangeIndex: 7939 entries, 0 to 7938\n",
      "Data columns (total 3 columns):\n",
      " #   Column      Non-Null Count  Dtype \n",
      "---  ------      --------------  ----- \n",
      " 0   Context     4381 non-null   object\n",
      " 1   Utterance   7939 non-null   object\n",
      " 2   Paraphrase  7939 non-null   object\n",
      "dtypes: object(3)\n",
      "memory usage: 186.2+ KB\n"
     ]
    }
   ],
   "source": [
    "# Concise summary of train_df dataframe\n",
    "train_df.info()"
   ]
  },
  {
   "cell_type": "code",
   "execution_count": 4,
   "metadata": {},
   "outputs": [
    {
     "data": {
      "text/html": [
       "<div>\n",
       "<style scoped>\n",
       "    .dataframe tbody tr th:only-of-type {\n",
       "        vertical-align: middle;\n",
       "    }\n",
       "\n",
       "    .dataframe tbody tr th {\n",
       "        vertical-align: top;\n",
       "    }\n",
       "\n",
       "    .dataframe thead th {\n",
       "        text-align: right;\n",
       "    }\n",
       "</style>\n",
       "<table border=\"1\" class=\"dataframe\">\n",
       "  <thead>\n",
       "    <tr style=\"text-align: right;\">\n",
       "      <th></th>\n",
       "      <th>Context</th>\n",
       "      <th>Utterance</th>\n",
       "      <th>Paraphrase</th>\n",
       "    </tr>\n",
       "  </thead>\n",
       "  <tbody>\n",
       "    <tr>\n",
       "      <th>0</th>\n",
       "      <td>I really love you.</td>\n",
       "      <td>Say it again.</td>\n",
       "      <td>Could you please repeat that?</td>\n",
       "    </tr>\n",
       "    <tr>\n",
       "      <th>1</th>\n",
       "      <td>Sorry I asked.</td>\n",
       "      <td>Give me a hand.</td>\n",
       "      <td>Could you please assist me?</td>\n",
       "    </tr>\n",
       "    <tr>\n",
       "      <th>2</th>\n",
       "      <td>NaN</td>\n",
       "      <td>My foot!</td>\n",
       "      <td>Oh dear, my foot!</td>\n",
       "    </tr>\n",
       "    <tr>\n",
       "      <th>3</th>\n",
       "      <td>My foot!</td>\n",
       "      <td>You!</td>\n",
       "      <td>Excuse me, may I have your attention please?</td>\n",
       "    </tr>\n",
       "    <tr>\n",
       "      <th>4</th>\n",
       "      <td>I'm just so tired of this whole scene.</td>\n",
       "      <td>Why don't you just let him sleep it off here i...</td>\n",
       "      <td>Would it be alright if he rested in the truck ...</td>\n",
       "    </tr>\n",
       "  </tbody>\n",
       "</table>\n",
       "</div>"
      ],
      "text/plain": [
       "                                  Context  \\\n",
       "0                      I really love you.   \n",
       "1                          Sorry I asked.   \n",
       "2                                     NaN   \n",
       "3                                My foot!   \n",
       "4  I'm just so tired of this whole scene.   \n",
       "\n",
       "                                           Utterance  \\\n",
       "0                                      Say it again.   \n",
       "1                                    Give me a hand.   \n",
       "2                                           My foot!   \n",
       "3                                               You!   \n",
       "4  Why don't you just let him sleep it off here i...   \n",
       "\n",
       "                                          Paraphrase  \n",
       "0                      Could you please repeat that?  \n",
       "1                        Could you please assist me?  \n",
       "2                                  Oh dear, my foot!  \n",
       "3       Excuse me, may I have your attention please?  \n",
       "4  Would it be alright if he rested in the truck ...  "
      ]
     },
     "execution_count": 4,
     "metadata": {},
     "output_type": "execute_result"
    }
   ],
   "source": [
    "# Display first five rows of train_df\n",
    "train_df.head(5)"
   ]
  },
  {
   "cell_type": "code",
   "execution_count": 5,
   "metadata": {},
   "outputs": [
    {
     "name": "stdout",
     "output_type": "stream",
     "text": [
      "<class 'pandas.core.frame.DataFrame'>\n",
      "RangeIndex: 1120 entries, 0 to 1119\n",
      "Data columns (total 3 columns):\n",
      " #   Column      Non-Null Count  Dtype \n",
      "---  ------      --------------  ----- \n",
      " 0   Context     594 non-null    object\n",
      " 1   Utterance   1120 non-null   object\n",
      " 2   Paraphrase  1120 non-null   object\n",
      "dtypes: object(3)\n",
      "memory usage: 26.4+ KB\n"
     ]
    }
   ],
   "source": [
    "# Concise summary of test_df dataframe\n",
    "test_df.info()"
   ]
  },
  {
   "cell_type": "code",
   "execution_count": 6,
   "metadata": {},
   "outputs": [
    {
     "data": {
      "text/html": [
       "<div>\n",
       "<style scoped>\n",
       "    .dataframe tbody tr th:only-of-type {\n",
       "        vertical-align: middle;\n",
       "    }\n",
       "\n",
       "    .dataframe tbody tr th {\n",
       "        vertical-align: top;\n",
       "    }\n",
       "\n",
       "    .dataframe thead th {\n",
       "        text-align: right;\n",
       "    }\n",
       "</style>\n",
       "<table border=\"1\" class=\"dataframe\">\n",
       "  <thead>\n",
       "    <tr style=\"text-align: right;\">\n",
       "      <th></th>\n",
       "      <th>Context</th>\n",
       "      <th>Utterance</th>\n",
       "      <th>Paraphrase</th>\n",
       "    </tr>\n",
       "  </thead>\n",
       "  <tbody>\n",
       "    <tr>\n",
       "      <th>0</th>\n",
       "      <td>NaN</td>\n",
       "      <td>So why don't we just arrest her?</td>\n",
       "      <td>Perhaps it would be best to consider taking le...</td>\n",
       "    </tr>\n",
       "    <tr>\n",
       "      <th>1</th>\n",
       "      <td>So why don't we just arrest her?</td>\n",
       "      <td>The point is to let her escape so she brings u...</td>\n",
       "      <td>Perhaps it would be more beneficial to allow h...</td>\n",
       "    </tr>\n",
       "    <tr>\n",
       "      <th>2</th>\n",
       "      <td>NaN</td>\n",
       "      <td>\"It must be tough on you to have a client like...</td>\n",
       "      <td>I can imagine that it may be challenging for y...</td>\n",
       "    </tr>\n",
       "    <tr>\n",
       "      <th>3</th>\n",
       "      <td>\"It must be tough on you to have a client like...</td>\n",
       "      <td>What turned you into such a difficult man?</td>\n",
       "      <td>I'm curious, what led to you becoming a challe...</td>\n",
       "    </tr>\n",
       "    <tr>\n",
       "      <th>4</th>\n",
       "      <td>\"Mine, Peter.\"</td>\n",
       "      <td>\"Strike, Peter.\"</td>\n",
       "      <td>\"Peter, would you mind if I had a turn?\"</td>\n",
       "    </tr>\n",
       "  </tbody>\n",
       "</table>\n",
       "</div>"
      ],
      "text/plain": [
       "                                             Context  \\\n",
       "0                                                NaN   \n",
       "1                   So why don't we just arrest her?   \n",
       "2                                                NaN   \n",
       "3  \"It must be tough on you to have a client like...   \n",
       "4                                     \"Mine, Peter.\"   \n",
       "\n",
       "                                           Utterance  \\\n",
       "0                   So why don't we just arrest her?   \n",
       "1  The point is to let her escape so she brings u...   \n",
       "2  \"It must be tough on you to have a client like...   \n",
       "3         What turned you into such a difficult man?   \n",
       "4                                   \"Strike, Peter.\"   \n",
       "\n",
       "                                          Paraphrase  \n",
       "0  Perhaps it would be best to consider taking le...  \n",
       "1  Perhaps it would be more beneficial to allow h...  \n",
       "2  I can imagine that it may be challenging for y...  \n",
       "3  I'm curious, what led to you becoming a challe...  \n",
       "4           \"Peter, would you mind if I had a turn?\"  "
      ]
     },
     "execution_count": 6,
     "metadata": {},
     "output_type": "execute_result"
    }
   ],
   "source": [
    "test_df.head(5)"
   ]
  },
  {
   "attachments": {},
   "cell_type": "markdown",
   "metadata": {},
   "source": [
    "The \"Context\" column in both train_df and test_df has NaN values. To address this, replace the NaN values with an empty string as shown below."
   ]
  },
  {
   "cell_type": "code",
   "execution_count": 7,
   "metadata": {},
   "outputs": [],
   "source": [
    "# Convert NaN to empty strings \"\"\n",
    "train_df = train_df.fillna(\"\")\n",
    "test_df = test_df.fillna(\"\")"
   ]
  },
  {
   "cell_type": "code",
   "execution_count": 8,
   "metadata": {},
   "outputs": [
    {
     "name": "stdout",
     "output_type": "stream",
     "text": [
      "<class 'pandas.core.frame.DataFrame'>\n",
      "RangeIndex: 7939 entries, 0 to 7938\n",
      "Data columns (total 3 columns):\n",
      " #   Column      Non-Null Count  Dtype \n",
      "---  ------      --------------  ----- \n",
      " 0   Context     7939 non-null   object\n",
      " 1   Utterance   7939 non-null   object\n",
      " 2   Paraphrase  7939 non-null   object\n",
      "dtypes: object(3)\n",
      "memory usage: 186.2+ KB\n"
     ]
    }
   ],
   "source": [
    "# Concise summary of train_df dataframe\n",
    "train_df.info()"
   ]
  },
  {
   "cell_type": "code",
   "execution_count": 9,
   "metadata": {},
   "outputs": [
    {
     "name": "stdout",
     "output_type": "stream",
     "text": [
      "<class 'pandas.core.frame.DataFrame'>\n",
      "RangeIndex: 1120 entries, 0 to 1119\n",
      "Data columns (total 3 columns):\n",
      " #   Column      Non-Null Count  Dtype \n",
      "---  ------      --------------  ----- \n",
      " 0   Context     1120 non-null   object\n",
      " 1   Utterance   1120 non-null   object\n",
      " 2   Paraphrase  1120 non-null   object\n",
      "dtypes: object(3)\n",
      "memory usage: 26.4+ KB\n"
     ]
    }
   ],
   "source": [
    "# Concise summary of test_df dataframe\n",
    "test_df.info()"
   ]
  },
  {
   "cell_type": "code",
   "execution_count": null,
   "metadata": {},
   "outputs": [],
   "source": []
  }
 ],
 "metadata": {
  "kernelspec": {
   "display_name": "ccu-gpt3-paraphrase-env",
   "language": "python",
   "name": "python3"
  },
  "language_info": {
   "codemirror_mode": {
    "name": "ipython",
    "version": 3
   },
   "file_extension": ".py",
   "mimetype": "text/x-python",
   "name": "python",
   "nbconvert_exporter": "python",
   "pygments_lexer": "ipython3",
   "version": "3.10.9"
  },
  "orig_nbformat": 4,
  "vscode": {
   "interpreter": {
    "hash": "3bde60ad4a6f436d0967666ece554ab8dc8cd01d8422d63f4775377130d31904"
   }
  }
 },
 "nbformat": 4,
 "nbformat_minor": 2
}
